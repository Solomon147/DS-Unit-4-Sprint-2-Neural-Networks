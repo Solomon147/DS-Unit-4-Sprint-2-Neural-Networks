{
  "nbformat": 4,
  "nbformat_minor": 0,
  "metadata": {
    "colab": {
      "name": "Unit4,Assignment 3",
      "provenance": []
    },
    "kernelspec": {
      "name": "python3",
      "display_name": "Python 3"
    }
  },
  "cells": [
    {
      "cell_type": "code",
      "metadata": {
        "id": "FszOTi-ddMea",
        "colab_type": "code",
        "colab": {
          "base_uri": "https://localhost:8080/",
          "height": 956
        },
        "outputId": "84cab64e-0b0d-4836-88b4-5a60bf260b4e"
      },
      "source": [
        "!pip install tf-nightly-2.0-preview"
      ],
      "execution_count": 1,
      "outputs": [
        {
          "output_type": "stream",
          "text": [
            "Collecting tf-nightly-2.0-preview\n",
            "\u001b[?25l  Downloading https://files.pythonhosted.org/packages/b8/be/e4e2cc0b4896648fe6d5e45dda6d8c3b784823301708cfe4ff96de9e01cf/tf_nightly_2.0_preview-2.0.0.dev20191002-cp36-cp36m-manylinux2010_x86_64.whl (95.2MB)\n",
            "\u001b[K     |████████████████████████████████| 95.2MB 104kB/s \n",
            "\u001b[?25hRequirement already satisfied: gast==0.2.2 in /usr/local/lib/python3.6/dist-packages (from tf-nightly-2.0-preview) (0.2.2)\n",
            "Requirement already satisfied: numpy<2.0,>=1.16.0 in /usr/local/lib/python3.6/dist-packages (from tf-nightly-2.0-preview) (1.17.5)\n",
            "Collecting tb-nightly<2.2.0a0,>=2.1.0a0\n",
            "\u001b[?25l  Downloading https://files.pythonhosted.org/packages/48/6b/b9e735120c77721570aed36cec55390827db0d580b14a5ffd93a4cce5997/tb_nightly-2.1.0a20191206-py3-none-any.whl (3.8MB)\n",
            "\u001b[K     |████████████████████████████████| 3.8MB 40.4MB/s \n",
            "\u001b[?25hRequirement already satisfied: keras-preprocessing>=1.0.5 in /usr/local/lib/python3.6/dist-packages (from tf-nightly-2.0-preview) (1.1.0)\n",
            "Requirement already satisfied: six>=1.10.0 in /usr/local/lib/python3.6/dist-packages (from tf-nightly-2.0-preview) (1.12.0)\n",
            "Requirement already satisfied: astor>=0.6.0 in /usr/local/lib/python3.6/dist-packages (from tf-nightly-2.0-preview) (0.8.1)\n",
            "Requirement already satisfied: protobuf>=3.6.1 in /usr/local/lib/python3.6/dist-packages (from tf-nightly-2.0-preview) (3.10.0)\n",
            "Requirement already satisfied: wrapt>=1.11.1 in /usr/local/lib/python3.6/dist-packages (from tf-nightly-2.0-preview) (1.11.2)\n",
            "Requirement already satisfied: absl-py>=0.7.0 in /usr/local/lib/python3.6/dist-packages (from tf-nightly-2.0-preview) (0.9.0)\n",
            "Requirement already satisfied: grpcio>=1.8.6 in /usr/local/lib/python3.6/dist-packages (from tf-nightly-2.0-preview) (1.15.0)\n",
            "Collecting tensorflow-estimator-2.0-preview\n",
            "\u001b[?25l  Downloading https://files.pythonhosted.org/packages/db/f5/790508e193121ab301cb40cada7f451c531404051ac9249f21b1f5484450/tensorflow_estimator_2.0_preview-2.0.0-py2.py3-none-any.whl (449kB)\n",
            "\u001b[K     |████████████████████████████████| 450kB 42.9MB/s \n",
            "\u001b[?25hRequirement already satisfied: wheel>=0.26; python_version >= \"3\" in /usr/local/lib/python3.6/dist-packages (from tf-nightly-2.0-preview) (0.33.6)\n",
            "Requirement already satisfied: google-pasta>=0.1.6 in /usr/local/lib/python3.6/dist-packages (from tf-nightly-2.0-preview) (0.1.8)\n",
            "Requirement already satisfied: opt-einsum>=2.3.2 in /usr/local/lib/python3.6/dist-packages (from tf-nightly-2.0-preview) (3.1.0)\n",
            "Requirement already satisfied: termcolor>=1.1.0 in /usr/local/lib/python3.6/dist-packages (from tf-nightly-2.0-preview) (1.1.0)\n",
            "Requirement already satisfied: keras-applications>=1.0.8 in /usr/local/lib/python3.6/dist-packages (from tf-nightly-2.0-preview) (1.0.8)\n",
            "Collecting google-auth<2,>=1.6.3\n",
            "\u001b[?25l  Downloading https://files.pythonhosted.org/packages/73/38/99d8c4db8788e050f2024032ecaa5e6df276e5befaabdd7e1bad17fe9b00/google_auth-1.10.2-py2.py3-none-any.whl (76kB)\n",
            "\u001b[K     |████████████████████████████████| 81kB 10.0MB/s \n",
            "\u001b[?25hRequirement already satisfied: requests<3,>=2.21.0 in /usr/local/lib/python3.6/dist-packages (from tb-nightly<2.2.0a0,>=2.1.0a0->tf-nightly-2.0-preview) (2.21.0)\n",
            "Requirement already satisfied: werkzeug>=0.11.15 in /usr/local/lib/python3.6/dist-packages (from tb-nightly<2.2.0a0,>=2.1.0a0->tf-nightly-2.0-preview) (0.16.0)\n",
            "Requirement already satisfied: setuptools>=41.0.0 in /usr/local/lib/python3.6/dist-packages (from tb-nightly<2.2.0a0,>=2.1.0a0->tf-nightly-2.0-preview) (42.0.2)\n",
            "Requirement already satisfied: google-auth-oauthlib<0.5,>=0.4.1 in /usr/local/lib/python3.6/dist-packages (from tb-nightly<2.2.0a0,>=2.1.0a0->tf-nightly-2.0-preview) (0.4.1)\n",
            "Requirement already satisfied: markdown>=2.6.8 in /usr/local/lib/python3.6/dist-packages (from tb-nightly<2.2.0a0,>=2.1.0a0->tf-nightly-2.0-preview) (3.1.1)\n",
            "Requirement already satisfied: h5py in /usr/local/lib/python3.6/dist-packages (from keras-applications>=1.0.8->tf-nightly-2.0-preview) (2.8.0)\n",
            "Requirement already satisfied: cachetools<5.0,>=2.0.0 in /usr/local/lib/python3.6/dist-packages (from google-auth<2,>=1.6.3->tb-nightly<2.2.0a0,>=2.1.0a0->tf-nightly-2.0-preview) (4.0.0)\n",
            "Requirement already satisfied: rsa<4.1,>=3.1.4 in /usr/local/lib/python3.6/dist-packages (from google-auth<2,>=1.6.3->tb-nightly<2.2.0a0,>=2.1.0a0->tf-nightly-2.0-preview) (4.0)\n",
            "Requirement already satisfied: pyasn1-modules>=0.2.1 in /usr/local/lib/python3.6/dist-packages (from google-auth<2,>=1.6.3->tb-nightly<2.2.0a0,>=2.1.0a0->tf-nightly-2.0-preview) (0.2.7)\n",
            "Requirement already satisfied: urllib3<1.25,>=1.21.1 in /usr/local/lib/python3.6/dist-packages (from requests<3,>=2.21.0->tb-nightly<2.2.0a0,>=2.1.0a0->tf-nightly-2.0-preview) (1.24.3)\n",
            "Requirement already satisfied: idna<2.9,>=2.5 in /usr/local/lib/python3.6/dist-packages (from requests<3,>=2.21.0->tb-nightly<2.2.0a0,>=2.1.0a0->tf-nightly-2.0-preview) (2.8)\n",
            "Requirement already satisfied: certifi>=2017.4.17 in /usr/local/lib/python3.6/dist-packages (from requests<3,>=2.21.0->tb-nightly<2.2.0a0,>=2.1.0a0->tf-nightly-2.0-preview) (2019.11.28)\n",
            "Requirement already satisfied: chardet<3.1.0,>=3.0.2 in /usr/local/lib/python3.6/dist-packages (from requests<3,>=2.21.0->tb-nightly<2.2.0a0,>=2.1.0a0->tf-nightly-2.0-preview) (3.0.4)\n",
            "Requirement already satisfied: requests-oauthlib>=0.7.0 in /usr/local/lib/python3.6/dist-packages (from google-auth-oauthlib<0.5,>=0.4.1->tb-nightly<2.2.0a0,>=2.1.0a0->tf-nightly-2.0-preview) (1.3.0)\n",
            "Requirement already satisfied: pyasn1>=0.1.3 in /usr/local/lib/python3.6/dist-packages (from rsa<4.1,>=3.1.4->google-auth<2,>=1.6.3->tb-nightly<2.2.0a0,>=2.1.0a0->tf-nightly-2.0-preview) (0.4.8)\n",
            "Requirement already satisfied: oauthlib>=3.0.0 in /usr/local/lib/python3.6/dist-packages (from requests-oauthlib>=0.7.0->google-auth-oauthlib<0.5,>=0.4.1->tb-nightly<2.2.0a0,>=2.1.0a0->tf-nightly-2.0-preview) (3.1.0)\n",
            "\u001b[31mERROR: google-colab 1.0.0 has requirement google-auth~=1.4.0, but you'll have google-auth 1.10.2 which is incompatible.\u001b[0m\n",
            "\u001b[31mERROR: tb-nightly 2.1.0a20191206 has requirement grpcio>=1.24.3, but you'll have grpcio 1.15.0 which is incompatible.\u001b[0m\n",
            "Installing collected packages: google-auth, tb-nightly, tensorflow-estimator-2.0-preview, tf-nightly-2.0-preview\n",
            "  Found existing installation: google-auth 1.4.2\n",
            "    Uninstalling google-auth-1.4.2:\n",
            "      Successfully uninstalled google-auth-1.4.2\n",
            "Successfully installed google-auth-1.10.2 tb-nightly-2.1.0a20191206 tensorflow-estimator-2.0-preview-2.0.0 tf-nightly-2.0-preview-2.0.0.dev20191002\n"
          ],
          "name": "stdout"
        },
        {
          "output_type": "display_data",
          "data": {
            "application/vnd.colab-display-data+json": {
              "pip_warning": {
                "packages": [
                  "google"
                ]
              }
            }
          },
          "metadata": {
            "tags": []
          }
        }
      ]
    },
    {
      "cell_type": "code",
      "metadata": {
        "id": "oQH32UDxdxv_",
        "colab_type": "code",
        "colab": {
          "base_uri": "https://localhost:8080/",
          "height": 34
        },
        "outputId": "75bf5d67-1328-4066-8d01-4e0e705c1678"
      },
      "source": [
        "import tensorflow as tf\n",
        "print(tf.__version__)"
      ],
      "execution_count": 2,
      "outputs": [
        {
          "output_type": "stream",
          "text": [
            "1.15.0\n"
          ],
          "name": "stdout"
        }
      ]
    },
    {
      "cell_type": "code",
      "metadata": {
        "id": "TIdm79jHsEMN",
        "colab_type": "code",
        "colab": {}
      },
      "source": [
        "import numpy as np\n",
        "from tensorflow.keras.datasets import mnist\n",
        "from tensorflow.keras.utils import to_categorical"
      ],
      "execution_count": 0,
      "outputs": []
    },
    {
      "cell_type": "code",
      "metadata": {
        "id": "8U9C0MNHsRh7",
        "colab_type": "code",
        "colab": {}
      },
      "source": [
        "from tensorflow.keras.datasets import boston_housing\n",
        "from tensorflow.keras.datasets import fashion_mnist\n",
        "\n"
      ],
      "execution_count": 0,
      "outputs": []
    },
    {
      "cell_type": "code",
      "metadata": {
        "id": "JidowL352ph3",
        "colab_type": "code",
        "colab": {}
      },
      "source": [
        "##Load the data\n",
        "#Clean the data if necessary (it will be)\n",
        "#Create and fit a baseline Keras MLP model to the data.\n",
        "#Hyperparameter tune (at least) the following parameters:"
      ],
      "execution_count": 0,
      "outputs": []
    },
    {
      "cell_type": "code",
      "metadata": {
        "id": "tTWL91mCD8BA",
        "colab_type": "code",
        "colab": {}
      },
      "source": [
        "#Load data\n",
        "(X_train, y_train), (X_test, y_test) = boston_housing.load_data()"
      ],
      "execution_count": 0,
      "outputs": []
    },
    {
      "cell_type": "code",
      "metadata": {
        "id": "nZB1HljkGgVf",
        "colab_type": "code",
        "colab": {
          "base_uri": "https://localhost:8080/",
          "height": 527
        },
        "outputId": "3a3e7ab5-74b1-43b9-85fc-80d9fbabfee7"
      },
      "source": [
        "#standarize(clean?)\n",
        "from sklearn.preprocessing import StandardScaler\n",
        "\n",
        "scaler = StandardScaler()\n",
        "\n",
        "X_train = scaler.fit_transform(X_train)\n",
        "X_test = scaler.transform(X_test)\n",
        "print(X_train[:10])"
      ],
      "execution_count": 40,
      "outputs": [
        {
          "output_type": "stream",
          "text": [
            "[[-0.27224633 -0.48361547 -0.43576161 -0.25683275 -0.1652266  -0.1764426\n",
            "   0.81306188  0.1166983  -0.62624905 -0.59517003  1.14850044  0.44807713\n",
            "   0.8252202 ]\n",
            " [-0.40342651  2.99178419 -1.33391162 -0.25683275 -1.21518188  1.89434613\n",
            "  -1.91036058  1.24758524 -0.85646254 -0.34843254 -1.71818909  0.43190599\n",
            "  -1.32920239]\n",
            " [ 0.1249402  -0.48361547  1.0283258  -0.25683275  0.62864202 -1.82968811\n",
            "   1.11048828 -1.18743907  1.67588577  1.5652875   0.78447637  0.22061726\n",
            "  -1.30850006]\n",
            " [-0.40149354 -0.48361547 -0.86940196 -0.25683275 -0.3615597  -0.3245576\n",
            "  -1.23667187  1.10717989 -0.51114231 -1.094663    0.78447637  0.44807713\n",
            "  -0.65292624]\n",
            " [-0.0056343  -0.48361547  1.0283258  -0.25683275  1.32861221  0.15364225\n",
            "   0.69480801 -0.57857203  1.67588577  1.5652875   0.78447637  0.3898823\n",
            "   0.26349695]\n",
            " [-0.37502238 -0.48361547 -0.54747912 -0.25683275 -0.54935658 -0.78865126\n",
            "   0.18954148  0.48371503 -0.51114231 -0.71552978  0.51145832  0.38669063\n",
            "  -0.13812828]\n",
            " [ 0.58963463 -0.48361547  1.0283258  -0.25683275  1.21764133 -1.03127774\n",
            "   1.11048828 -1.06518235  1.67588577  1.5652875   0.78447637  0.44807713\n",
            "   1.49873604]\n",
            " [ 0.0381708  -0.48361547  1.24588095 -0.25683275  2.67733525 -1.12719983\n",
            "   1.11048828 -1.14833073 -0.51114231 -0.01744323 -1.71818909  0.44807713\n",
            "   1.88793986]\n",
            " [-0.17228416 -0.48361547  1.24588095 -0.25683275  2.67733525 -0.90150078\n",
            "   1.11048828 -1.09664657 -0.51114231 -0.01744323 -1.71818909 -1.97365769\n",
            "   0.53952803]\n",
            " [-0.22932104 -0.48361547  1.58544339 -0.25683275  0.56888847 -1.76056777\n",
            "   1.11048828 -1.13471925 -0.62624905  0.18716835  1.23950646  0.44807713\n",
            "   2.99068404]]\n"
          ],
          "name": "stdout"
        }
      ]
    },
    {
      "cell_type": "code",
      "metadata": {
        "id": "1t2cD20sMvou",
        "colab_type": "code",
        "colab": {
          "base_uri": "https://localhost:8080/",
          "height": 34
        },
        "outputId": "b2f0514d-f8d9-4a13-ab1c-a030e48c5fbc"
      },
      "source": [
        "X_train.shape"
      ],
      "execution_count": 41,
      "outputs": [
        {
          "output_type": "execute_result",
          "data": {
            "text/plain": [
              "(404, 13)"
            ]
          },
          "metadata": {
            "tags": []
          },
          "execution_count": 41
        }
      ]
    },
    {
      "cell_type": "code",
      "metadata": {
        "id": "leCC1FLfNaT4",
        "colab_type": "code",
        "colab": {}
      },
      "source": [
        "#import model and layers needed:\n",
        "from tensorflow.keras.models import Sequential\n",
        "from tensorflow.keras.layers import Dense, Flatten\n",
        "import numpy as np\n",
        "\n",
        "np.random.seed(812)"
      ],
      "execution_count": 0,
      "outputs": []
    },
    {
      "cell_type": "code",
      "metadata": {
        "id": "sEennEFqN0BG",
        "colab_type": "code",
        "colab": {
          "base_uri": "https://localhost:8080/",
          "height": 289
        },
        "outputId": "e26a8fbc-cd24-44a2-d509-d33c197bcb9f"
      },
      "source": [
        "#instantiate model\n",
        "model = Sequential(name='Boston_Housing_1st_attempt')\n",
        "\n",
        "#add layers to model\n",
        "model.add(Dense(50, input_dim=13, activation=\"relu\"))\n",
        "model.add(Dense(50, activation=\"relu\"))\n",
        "model.add(Dense(50, activation=\"relu\"))\n",
        "\n",
        "\n",
        "#no activation function for output layer cos it's a regression problem\n",
        "model.add(Dense(1))\n",
        "model.compile(loss='mean_squared_error', optimizer='adam')\n",
        "\n",
        "#inspect our new architecture\n",
        "model.summary()"
      ],
      "execution_count": 43,
      "outputs": [
        {
          "output_type": "stream",
          "text": [
            "Model: \"Boston_Housing_1st_attempt\"\n",
            "_________________________________________________________________\n",
            "Layer (type)                 Output Shape              Param #   \n",
            "=================================================================\n",
            "dense_4 (Dense)              (None, 50)                700       \n",
            "_________________________________________________________________\n",
            "dense_5 (Dense)              (None, 50)                2550      \n",
            "_________________________________________________________________\n",
            "dense_6 (Dense)              (None, 50)                2550      \n",
            "_________________________________________________________________\n",
            "dense_7 (Dense)              (None, 1)                 51        \n",
            "=================================================================\n",
            "Total params: 5,851\n",
            "Trainable params: 5,851\n",
            "Non-trainable params: 0\n",
            "_________________________________________________________________\n"
          ],
          "name": "stdout"
        }
      ]
    },
    {
      "cell_type": "code",
      "metadata": {
        "id": "5KQSyZjGO24j",
        "colab_type": "code",
        "colab": {}
      },
      "source": [
        "#fit the model\n",
        "history = model.fit(X_train, y_train, epochs=50, verbose=False, validation_split=(\"0\"), validation_data=(X_test, y_test))"
      ],
      "execution_count": 0,
      "outputs": []
    },
    {
      "cell_type": "code",
      "metadata": {
        "id": "w2diGky7PZ84",
        "colab_type": "code",
        "colab": {
          "base_uri": "https://localhost:8080/",
          "height": 51
        },
        "outputId": "53a73885-36dc-4fa7-ecd2-dacdcc537cdd"
      },
      "source": [
        "model.evaluate(X_train, y_train)"
      ],
      "execution_count": 45,
      "outputs": [
        {
          "output_type": "stream",
          "text": [
            "404/404 [==============================] - 0s 63us/sample - loss: 7.1491\n"
          ],
          "name": "stdout"
        },
        {
          "output_type": "execute_result",
          "data": {
            "text/plain": [
              "7.149117668076317"
            ]
          },
          "metadata": {
            "tags": []
          },
          "execution_count": 45
        }
      ]
    },
    {
      "cell_type": "code",
      "metadata": {
        "id": "hOg-pfR5RaDk",
        "colab_type": "code",
        "colab": {
          "base_uri": "https://localhost:8080/",
          "height": 34
        },
        "outputId": "88c4a01f-6b92-45e2-823a-2c3779cf5eb3"
      },
      "source": [
        "#use history object to visualize train vs test losses:\n",
        "history.history.keys()"
      ],
      "execution_count": 46,
      "outputs": [
        {
          "output_type": "execute_result",
          "data": {
            "text/plain": [
              "dict_keys(['loss', 'val_loss'])"
            ]
          },
          "metadata": {
            "tags": []
          },
          "execution_count": 46
        }
      ]
    },
    {
      "cell_type": "code",
      "metadata": {
        "id": "SpLqaNpUR5tM",
        "colab_type": "code",
        "colab": {
          "base_uri": "https://localhost:8080/",
          "height": 295
        },
        "outputId": "aef9258d-467a-4af5-8678-344c73a8da85"
      },
      "source": [
        "import matplotlib.pyplot as plt\n",
        "plt.plot(history.history['loss'])\n",
        "plt.plot(history.history['val_loss'])\n",
        "plt.title('model loss')\n",
        "plt.ylabel('loss')\n",
        "plt.xlabel('epoch')\n",
        "plt.legend(['train', 'test'], loc='upper right' )\n",
        "plt.show()"
      ],
      "execution_count": 47,
      "outputs": [
        {
          "output_type": "display_data",
          "data": {
            "image/png": "[encoded data removed]",
            "text/plain": [
              "<Figure size 432x288 with 1 Axes>"
            ]
          },
          "metadata": {
            "tags": []
          }
        }
      ]
    },
    {
      "cell_type": "code",
      "metadata": {
        "id": "3tXntchZULRE",
        "colab_type": "code",
        "colab": {
          "base_uri": "https://localhost:8080/",
          "height": 34
        },
        "outputId": "b7835d8b-ba28-4400-cf07-90f07e15f4cd"
      },
      "source": [
        "#compare with linear regression\n",
        "from sklearn.linear_model import LinearRegression\n",
        "model2 = LinearRegression()\n",
        "model2.fit(X_train, y_train)"
      ],
      "execution_count": 48,
      "outputs": [
        {
          "output_type": "execute_result",
          "data": {
            "text/plain": [
              "LinearRegression(copy_X=True, fit_intercept=True, n_jobs=None, normalize=False)"
            ]
          },
          "metadata": {
            "tags": []
          },
          "execution_count": 48
        }
      ]
    },
    {
      "cell_type": "code",
      "metadata": {
        "id": "KnyHei3FUev7",
        "colab_type": "code",
        "colab": {
          "base_uri": "https://localhost:8080/",
          "height": 51
        },
        "outputId": "da8a5858-0114-4f13-f3be-6c588d294d66"
      },
      "source": [
        "from sklearn.metrics import mean_squared_error\n",
        "print('training data linear regression:', mean_squared_error(model2.predict(X_train), y_train))\n",
        "print('training data neural network:', mean_squared_error(model.predict(X_train), y_train))"
      ],
      "execution_count": 51,
      "outputs": [
        {
          "output_type": "stream",
          "text": [
            "training data linear regression: 22.00480083834814\n",
            "training data neural network: 7.149116474566541\n"
          ],
          "name": "stdout"
        }
      ]
    },
    {
      "cell_type": "code",
      "metadata": {
        "id": "9WG3vNvGWnQ_",
        "colab_type": "code",
        "colab": {
          "base_uri": "https://localhost:8080/",
          "height": 51
        },
        "outputId": "aaa1daa7-91e4-43f4-edd9-dd0ab8e19a19"
      },
      "source": [
        "print('training data linear regression:', mean_squared_error(model2.predict(X_test), y_test))\n",
        "print('training data neural network:', mean_squared_error(model.predict(X_test), y_test))"
      ],
      "execution_count": 52,
      "outputs": [
        {
          "output_type": "stream",
          "text": [
            "training data linear regression: 23.195599256423\n",
            "training data neural network: 19.908884897929205\n"
          ],
          "name": "stdout"
        }
      ]
    },
    {
      "cell_type": "code",
      "metadata": {
        "id": "60Pw1qhnW7rW",
        "colab_type": "code",
        "colab": {
          "base_uri": "https://localhost:8080/",
          "height": 34
        },
        "outputId": "0baa3895-aa48-46d2-bb5b-c01e3831fd21"
      },
      "source": [
        "#load the data\n",
        "from tensorflow.keras.datasets import fashion_mnist\n",
        "from tensorflow.keras.utils import to_categorical\n",
        "import keras"
      ],
      "execution_count": 53,
      "outputs": [
        {
          "output_type": "stream",
          "text": [
            "Using TensorFlow backend.\n"
          ],
          "name": "stderr"
        }
      ]
    },
    {
      "cell_type": "code",
      "metadata": {
        "id": "hbml5hbqXWTq",
        "colab_type": "code",
        "colab": {
          "base_uri": "https://localhost:8080/",
          "height": 153
        },
        "outputId": "6dfd9eb7-dce1-4596-9761-c4444624b598"
      },
      "source": [
        "#train and test sets\n",
        "(X_train, y_train), (X_test, y_test) = fashion_mnist.load_data()"
      ],
      "execution_count": 54,
      "outputs": [
        {
          "output_type": "stream",
          "text": [
            "Downloading data from https://storage.googleapis.com/tensorflow/tf-keras-datasets/train-labels-idx1-ubyte.gz\n",
            "32768/29515 [=================================] - 0s 0us/step\n",
            "Downloading data from https://storage.googleapis.com/tensorflow/tf-keras-datasets/train-images-idx3-ubyte.gz\n",
            "26427392/26421880 [==============================] - 0s 0us/step\n",
            "Downloading data from https://storage.googleapis.com/tensorflow/tf-keras-datasets/t10k-labels-idx1-ubyte.gz\n",
            "8192/5148 [===============================================] - 0s 0us/step\n",
            "Downloading data from https://storage.googleapis.com/tensorflow/tf-keras-datasets/t10k-images-idx3-ubyte.gz\n",
            "4423680/4422102 [==============================] - 0s 0us/step\n"
          ],
          "name": "stdout"
        }
      ]
    },
    {
      "cell_type": "code",
      "metadata": {
        "id": "CTZ74mF0Xoeo",
        "colab_type": "code",
        "colab": {}
      },
      "source": [
        "#input image dimensions\n",
        "img_rows, img_cols = 28, 28\n",
        "\n",
        "X_train = X_train.reshape(X_train.shape[0], img_rows * img_cols)\n",
        "X_test = X_test.reshape(X_test.shape[0], img_rows * img_cols)"
      ],
      "execution_count": 0,
      "outputs": []
    },
    {
      "cell_type": "code",
      "metadata": {
        "id": "6ULvAS3DYHgQ",
        "colab_type": "code",
        "colab": {}
      },
      "source": [
        "#normalize data\n",
        "X_train = X_train / 255\n",
        "X_test = X_test / 255"
      ],
      "execution_count": 0,
      "outputs": []
    },
    {
      "cell_type": "code",
      "metadata": {
        "id": "2UMdMmxPYS8-",
        "colab_type": "code",
        "colab": {
          "base_uri": "https://localhost:8080/",
          "height": 34
        },
        "outputId": "e5bca7ad-8392-4867-b367-3fc2c82a8b5c"
      },
      "source": [
        "#make outputs categoricals\n",
        "y_train = keras.utils.to_categorical(y_train, 10)\n",
        "y_test = keras.utils.to_categorical(y_test, 10)\n",
        "y_test.shape"
      ],
      "execution_count": 57,
      "outputs": [
        {
          "output_type": "execute_result",
          "data": {
            "text/plain": [
              "(10000, 10)"
            ]
          },
          "metadata": {
            "tags": []
          },
          "execution_count": 57
        }
      ]
    },
    {
      "cell_type": "code",
      "metadata": {
        "id": "l-1q5B2_YTfv",
        "colab_type": "code",
        "colab": {
          "base_uri": "https://localhost:8080/",
          "height": 289
        },
        "outputId": "f9843c4d-a2c9-44a0-acd2-589069eef4e7"
      },
      "source": [
        "#instantiate model:\n",
        "model2 = Sequential(name='MNIST_Fashion_1st_Attempt')\n",
        "\n",
        "#add layers to model:\n",
        "model2.add(Dense(100, input_dim=784, activation=\"relu\"))\n",
        "model2.add(Dense(100, activation=\"relu\"))\n",
        "model2.add(Dense(100, activation=\"relu\"))\n",
        "\n",
        "\n",
        "#Using softmax activation function because it's a multi-class classification problem\n",
        "model2.add(Dense(10, activation=\"softmax\"))\n",
        "model2.compile(optimizer='adam', loss='categorical_crossentropy', metrics=['accuracy'])\n",
        "\n",
        "#inspecting the new achitecture\n",
        "model2.summary()"
      ],
      "execution_count": 65,
      "outputs": [
        {
          "output_type": "stream",
          "text": [
            "Model: \"MNIST_Fashion_1st_Attempt\"\n",
            "_________________________________________________________________\n",
            "Layer (type)                 Output Shape              Param #   \n",
            "=================================================================\n",
            "dense_12 (Dense)             (None, 100)               78500     \n",
            "_________________________________________________________________\n",
            "dense_13 (Dense)             (None, 100)               10100     \n",
            "_________________________________________________________________\n",
            "dense_14 (Dense)             (None, 100)               10100     \n",
            "_________________________________________________________________\n",
            "dense_15 (Dense)             (None, 10)                1010      \n",
            "=================================================================\n",
            "Total params: 99,710\n",
            "Trainable params: 99,710\n",
            "Non-trainable params: 0\n",
            "_________________________________________________________________\n"
          ],
          "name": "stdout"
        }
      ]
    },
    {
      "cell_type": "code",
      "metadata": {
        "id": "lDXDPON0aLjz",
        "colab_type": "code",
        "colab": {
          "base_uri": "https://localhost:8080/",
          "height": 1000
        },
        "outputId": "db76990f-f837-49d3-8b35-c676d3da7fea"
      },
      "source": [
        "#fit the model\n",
        "history = model2.fit(X_train,y_train, epochs=50, verbose=True, validation_split=(0), validation_data=(X_test, y_test))"
      ],
      "execution_count": 66,
      "outputs": [
        {
          "output_type": "stream",
          "text": [
            "Train on 60000 samples, validate on 10000 samples\n",
            "Epoch 1/50\n",
            "60000/60000 [==============================] - 6s 98us/sample - loss: 0.4961 - acc: 0.8211 - val_loss: 0.4465 - val_acc: 0.8357\n",
            "Epoch 2/50\n",
            "60000/60000 [==============================] - 6s 98us/sample - loss: 0.3682 - acc: 0.8640 - val_loss: 0.4046 - val_acc: 0.8538\n",
            "Epoch 3/50\n",
            "60000/60000 [==============================] - 6s 97us/sample - loss: 0.3339 - acc: 0.8754 - val_loss: 0.3980 - val_acc: 0.8594\n",
            "Epoch 4/50\n",
            "60000/60000 [==============================] - 6s 98us/sample - loss: 0.3120 - acc: 0.8837 - val_loss: 0.3645 - val_acc: 0.8639\n",
            "Epoch 5/50\n",
            "60000/60000 [==============================] - 6s 100us/sample - loss: 0.2942 - acc: 0.8910 - val_loss: 0.3787 - val_acc: 0.8641\n",
            "Epoch 6/50\n",
            "60000/60000 [==============================] - 6s 96us/sample - loss: 0.2807 - acc: 0.8950 - val_loss: 0.3484 - val_acc: 0.8785\n",
            "Epoch 7/50\n",
            "60000/60000 [==============================] - 6s 96us/sample - loss: 0.2689 - acc: 0.8988 - val_loss: 0.3372 - val_acc: 0.8785\n",
            "Epoch 8/50\n",
            "60000/60000 [==============================] - 6s 95us/sample - loss: 0.2586 - acc: 0.9029 - val_loss: 0.3237 - val_acc: 0.8853\n",
            "Epoch 9/50\n",
            "60000/60000 [==============================] - 6s 98us/sample - loss: 0.2499 - acc: 0.9057 - val_loss: 0.3335 - val_acc: 0.8826\n",
            "Epoch 10/50\n",
            "60000/60000 [==============================] - 6s 98us/sample - loss: 0.2409 - acc: 0.9080 - val_loss: 0.3474 - val_acc: 0.8800\n",
            "Epoch 11/50\n",
            "60000/60000 [==============================] - 6s 97us/sample - loss: 0.2325 - acc: 0.9106 - val_loss: 0.3547 - val_acc: 0.8849\n",
            "Epoch 12/50\n",
            "60000/60000 [==============================] - 6s 98us/sample - loss: 0.2266 - acc: 0.9136 - val_loss: 0.3460 - val_acc: 0.8834\n",
            "Epoch 13/50\n",
            "60000/60000 [==============================] - 6s 97us/sample - loss: 0.2179 - acc: 0.9167 - val_loss: 0.3535 - val_acc: 0.8854\n",
            "Epoch 14/50\n",
            "60000/60000 [==============================] - 6s 95us/sample - loss: 0.2139 - acc: 0.9178 - val_loss: 0.3556 - val_acc: 0.8831\n",
            "Epoch 15/50\n",
            "60000/60000 [==============================] - 6s 99us/sample - loss: 0.2078 - acc: 0.9204 - val_loss: 0.3531 - val_acc: 0.8871\n",
            "Epoch 16/50\n",
            "60000/60000 [==============================] - 6s 96us/sample - loss: 0.2003 - acc: 0.9222 - val_loss: 0.3494 - val_acc: 0.8862\n",
            "Epoch 17/50\n",
            "60000/60000 [==============================] - 6s 97us/sample - loss: 0.1992 - acc: 0.9233 - val_loss: 0.3501 - val_acc: 0.8882\n",
            "Epoch 18/50\n",
            "60000/60000 [==============================] - 6s 96us/sample - loss: 0.1920 - acc: 0.9254 - val_loss: 0.3587 - val_acc: 0.8875\n",
            "Epoch 19/50\n",
            "60000/60000 [==============================] - 6s 97us/sample - loss: 0.1871 - acc: 0.9278 - val_loss: 0.3731 - val_acc: 0.8902\n",
            "Epoch 20/50\n",
            "60000/60000 [==============================] - 6s 107us/sample - loss: 0.1813 - acc: 0.9309 - val_loss: 0.3824 - val_acc: 0.8782\n",
            "Epoch 21/50\n",
            "60000/60000 [==============================] - 6s 102us/sample - loss: 0.1782 - acc: 0.9321 - val_loss: 0.3694 - val_acc: 0.8835\n",
            "Epoch 22/50\n",
            "60000/60000 [==============================] - 6s 95us/sample - loss: 0.1739 - acc: 0.9327 - val_loss: 0.3852 - val_acc: 0.8805\n",
            "Epoch 23/50\n",
            "60000/60000 [==============================] - 6s 97us/sample - loss: 0.1700 - acc: 0.9341 - val_loss: 0.3794 - val_acc: 0.8906\n",
            "Epoch 24/50\n",
            "60000/60000 [==============================] - 6s 96us/sample - loss: 0.1647 - acc: 0.9359 - val_loss: 0.3859 - val_acc: 0.8876\n",
            "Epoch 25/50\n",
            "60000/60000 [==============================] - 6s 99us/sample - loss: 0.1626 - acc: 0.9370 - val_loss: 0.4107 - val_acc: 0.8891\n",
            "Epoch 26/50\n",
            "60000/60000 [==============================] - 6s 98us/sample - loss: 0.1625 - acc: 0.9381 - val_loss: 0.3918 - val_acc: 0.8893\n",
            "Epoch 27/50\n",
            "60000/60000 [==============================] - 6s 98us/sample - loss: 0.1566 - acc: 0.9393 - val_loss: 0.4778 - val_acc: 0.8831\n",
            "Epoch 28/50\n",
            "60000/60000 [==============================] - 6s 93us/sample - loss: 0.1529 - acc: 0.9415 - val_loss: 0.4280 - val_acc: 0.8913\n",
            "Epoch 29/50\n",
            "60000/60000 [==============================] - 5s 91us/sample - loss: 0.1499 - acc: 0.9410 - val_loss: 0.4558 - val_acc: 0.8849\n",
            "Epoch 30/50\n",
            "60000/60000 [==============================] - 6s 97us/sample - loss: 0.1503 - acc: 0.9420 - val_loss: 0.4577 - val_acc: 0.8807\n",
            "Epoch 31/50\n",
            "60000/60000 [==============================] - 6s 103us/sample - loss: 0.1441 - acc: 0.9437 - val_loss: 0.5004 - val_acc: 0.8867\n",
            "Epoch 32/50\n",
            "60000/60000 [==============================] - 6s 98us/sample - loss: 0.1449 - acc: 0.9445 - val_loss: 0.4055 - val_acc: 0.8928\n",
            "Epoch 33/50\n",
            "60000/60000 [==============================] - 6s 96us/sample - loss: 0.1409 - acc: 0.9449 - val_loss: 0.4756 - val_acc: 0.8873\n",
            "Epoch 34/50\n",
            "60000/60000 [==============================] - 6s 95us/sample - loss: 0.1377 - acc: 0.9471 - val_loss: 0.4750 - val_acc: 0.8860\n",
            "Epoch 35/50\n",
            "60000/60000 [==============================] - 6s 98us/sample - loss: 0.1340 - acc: 0.9481 - val_loss: 0.4601 - val_acc: 0.8889\n",
            "Epoch 36/50\n",
            "60000/60000 [==============================] - 6s 98us/sample - loss: 0.1300 - acc: 0.9496 - val_loss: 0.5045 - val_acc: 0.8855\n",
            "Epoch 37/50\n",
            "60000/60000 [==============================] - 6s 96us/sample - loss: 0.1329 - acc: 0.9484 - val_loss: 0.5159 - val_acc: 0.8864\n",
            "Epoch 38/50\n",
            "60000/60000 [==============================] - 6s 96us/sample - loss: 0.1288 - acc: 0.9501 - val_loss: 0.5086 - val_acc: 0.8865\n",
            "Epoch 39/50\n",
            "60000/60000 [==============================] - 5s 91us/sample - loss: 0.1293 - acc: 0.9504 - val_loss: 0.4695 - val_acc: 0.8919\n",
            "Epoch 40/50\n",
            "60000/60000 [==============================] - 6s 94us/sample - loss: 0.1267 - acc: 0.9504 - val_loss: 0.5098 - val_acc: 0.8864\n",
            "Epoch 41/50\n",
            "60000/60000 [==============================] - 6s 96us/sample - loss: 0.1207 - acc: 0.9528 - val_loss: 0.5330 - val_acc: 0.8859\n",
            "Epoch 42/50\n",
            "60000/60000 [==============================] - 6s 94us/sample - loss: 0.1192 - acc: 0.9534 - val_loss: 0.5299 - val_acc: 0.8875\n",
            "Epoch 43/50\n",
            "60000/60000 [==============================] - 6s 95us/sample - loss: 0.1217 - acc: 0.9521 - val_loss: 0.5263 - val_acc: 0.8911\n",
            "Epoch 44/50\n",
            "60000/60000 [==============================] - 6s 97us/sample - loss: 0.1189 - acc: 0.9548 - val_loss: 0.5651 - val_acc: 0.8863\n",
            "Epoch 45/50\n",
            "60000/60000 [==============================] - 6s 94us/sample - loss: 0.1157 - acc: 0.9550 - val_loss: 0.5114 - val_acc: 0.8924\n",
            "Epoch 46/50\n",
            "60000/60000 [==============================] - 6s 98us/sample - loss: 0.1125 - acc: 0.9559 - val_loss: 0.5585 - val_acc: 0.8889\n",
            "Epoch 47/50\n",
            "60000/60000 [==============================] - 6s 96us/sample - loss: 0.1148 - acc: 0.9550 - val_loss: 0.6019 - val_acc: 0.8879\n",
            "Epoch 48/50\n",
            "60000/60000 [==============================] - 6s 97us/sample - loss: 0.1112 - acc: 0.9560 - val_loss: 0.6079 - val_acc: 0.8806\n",
            "Epoch 49/50\n",
            "60000/60000 [==============================] - 6s 93us/sample - loss: 0.1068 - acc: 0.9580 - val_loss: 0.6137 - val_acc: 0.8850\n",
            "Epoch 50/50\n",
            "60000/60000 [==============================] - 6s 92us/sample - loss: 0.1064 - acc: 0.9581 - val_loss: 0.6078 - val_acc: 0.8898\n"
          ],
          "name": "stdout"
        }
      ]
    },
    {
      "cell_type": "code",
      "metadata": {
        "id": "ltV5krUxdPyK",
        "colab_type": "code",
        "colab": {
          "base_uri": "https://localhost:8080/",
          "height": 51
        },
        "outputId": "76eb9d3d-ce80-4bf3-d94d-885f2652f7c3"
      },
      "source": [
        "model2.evaluate(X_train,y_train)"
      ],
      "execution_count": 67,
      "outputs": [
        {
          "output_type": "stream",
          "text": [
            "60000/60000 [==============================] - 2s 35us/sample - loss: 0.1074 - acc: 0.9579\n"
          ],
          "name": "stdout"
        },
        {
          "output_type": "execute_result",
          "data": {
            "text/plain": [
              "[0.10742821776376417, 0.95786667]"
            ]
          },
          "metadata": {
            "tags": []
          },
          "execution_count": 67
        }
      ]
    },
    {
      "cell_type": "code",
      "metadata": {
        "id": "t-DfaOIYdeCu",
        "colab_type": "code",
        "colab": {
          "base_uri": "https://localhost:8080/",
          "height": 51
        },
        "outputId": "be17a84a-a5bf-4959-cfc6-32755f1e732d"
      },
      "source": [
        "model2.evaluate(X_test,y_test)"
      ],
      "execution_count": 68,
      "outputs": [
        {
          "output_type": "stream",
          "text": [
            "10000/10000 [==============================] - 0s 37us/sample - loss: 0.6078 - acc: 0.8898\n"
          ],
          "name": "stdout"
        },
        {
          "output_type": "execute_result",
          "data": {
            "text/plain": [
              "[0.607849097135663, 0.8898]"
            ]
          },
          "metadata": {
            "tags": []
          },
          "execution_count": 68
        }
      ]
    }
  ]
}